{
  "cells": [
    {
      "cell_type": "markdown",
      "metadata": {
        "id": "view-in-github",
        "colab_type": "text"
      },
      "source": [
        "<a href=\"https://colab.research.google.com/github/lucentlabz/2inf/blob/main/2inf_py.ipynb\" target=\"_parent\"><img src=\"https://colab.research.google.com/assets/colab-badge.svg\" alt=\"Open In Colab\"/></a>"
      ]
    },
    {
      "cell_type": "code",
      "execution_count": 18,
      "metadata": {
        "id": "j2jgdmx3U9q3"
      },
      "outputs": [],
      "source": [
        "class MathExpression:\n",
        "    def __init__(self, operation, base, exponent, result, concept, note):\n",
        "        self.operation = operation\n",
        "        self.base = base\n",
        "        self.exponent = exponent\n",
        "        self.result = result\n",
        "        self.concept = concept\n",
        "        self.note = note\n",
        "\n",
        "# Example of a mathematical expression\n",
        "exp1 = MathExpression(\n",
        "    operation=\"exponentiation\",\n",
        "    base=9876543210.0123456789,\n",
        "    exponent=9876543210.0123456789,\n",
        "    result=\"infinity or a value too large for computation\",\n",
        "    concept=\"infinity\",\n",
        "    note=\"results exceed standard computational limits\"\n",
        ")\n",
        "\n",
        "# Another example\n",
        "exp2 = MathExpression(\n",
        "    operation=\"exponentiation\",\n",
        "    base=0.123456789,\n",
        "    exponent=987654321.0,\n",
        "    result=\"approaches 0\",\n",
        "    concept=\"tends towards zero\",\n",
        "    note=\"the base is less than 1 and raised to a large positive power\"\n",
        ")\n",
        "\n",
        "# Training data\n",
        "training_data = [exp1, exp2]\n",
        "\n",
        "# Training the model\n",
        "for example in training_data:\n",
        "    # Here, you would include the code to train your model\n",
        "    pass\n"
      ]
    },
    {
      "cell_type": "markdown",
      "source": [
        "# New Section"
      ],
      "metadata": {
        "id": "QI6HJOKbbluw"
      }
    },
    {
      "cell_type": "markdown",
      "source": [
        "Updated Code Overview\n",
        "\n",
        "Class Definition: The MathExpression class persists, now allowing for evaluation of expressions.\n",
        "\n",
        "Evaluate Method:\n",
        "\n",
        "The evaluate method checks the operation attribute and performs exponentiation using math.pow().\n",
        "It includes error handling for potential OverflowError when dealing with very large numbers.\n",
        "Instantiation of MathExpression:\n",
        "\n",
        "An instance exp3 is created to calculate (2^3) (or 2 raised to the power of 3).\n",
        "After evaluation, it prints the computed result.\n",
        "Code Example\n",
        "Here’s the complete code including your evaluate method and instantiation:\n",
        "\n",
        "Python\n",
        "\n",
        "import math\n",
        "\n",
        "class MathExpression:\n",
        "    # Initialize the class attributes\n",
        "    def __init__(self, operation: str, base: float, exponent: float, result: str, concept: str, note: str):\n",
        "        self.operation = operation\n",
        "        self.base = base\n",
        "        self.exponent = exponent\n",
        "        self.result = result\n",
        "        self.concept = concept\n",
        "        self.note = note\n",
        "\n",
        "    # Method to evaluate the mathematical expression\n",
        "    def evaluate(self):\n",
        "        if self.operation == \"exponentiation\":\n",
        "            try:\n",
        "                self.result = math.pow(self.base, self.exponent)\n",
        "            except OverflowError:\n",
        "                self.result = \"infinity or a value too large for computation\"\n",
        "\n",
        "    # Method to display the details of the MathExpression\n",
        "    def display(self):\n",
        "        print(f\"Operation: {self.operation}\")\n",
        "        print(f\"Base: {self.base}\")\n",
        "        print(f\"Exponent: {self.exponent}\")\n",
        "        print(f\"Result: {self.result}\")\n",
        "        print(f\"Concept: {self.concept}\")\n",
        "        print(f\"Note: {self.note}\")\n",
        "\n",
        "# Example of a mathematical expression with small base and exponent\n",
        "exp3 = MathExpression(\n",
        "    operation=\"exponentiation\",\n",
        "    base=2,\n",
        "    exponent=3,\n",
        "    result=None,  # Result will be computed by the evaluate method\n",
        "    concept=\"cube\",\n",
        "    note=\"the base is raised to the power of 3\"\n",
        ")\n",
        "exp3.evaluate()\n",
        "print(f\"Computed result: {exp3.result}\")\n",
        "AI-generated code. Review and use carefully. More info on FAQ.\n",
        "UML Class Diagram Representation\n",
        "Using the previous UML class structure and adding the new method, here is the updated representation:\n",
        "\n",
        "+------------------+\n",
        "|   MathExpression  |\n",
        "+------------------+\n",
        "| - operation: str |\n",
        "| - base: float    |\n",
        "| - exponent: float |\n",
        "| - result: float or str |\n",
        "| - concept: str   |\n",
        "| - note: str      |\n",
        "+------------------+\n",
        "| + __init__()     |\n",
        "| + evaluate()     |\n",
        "| + display()      |\n",
        "+------------------+\n",
        "\n",
        "Instructions to Draw the Updated Diagram\n",
        "Create the UML Class for MathExpression:\n",
        "\n",
        "Draw a rectangle with three sections.\n",
        "Top section: MathExpression.\n",
        "Middle section: List the attributes including the result being the type float or str.\n",
        "Bottom section: List all methods: __init__(), evaluate(), display().\n",
        "Indicate Usage (in this case, there is no function needing representation since the code is self-contained).\n",
        "\n",
        "Using a Diagramming Tool: Input the information above into a UML diagramming tool to create a visual representation.\n",
        "\n",
        "This enhanced code and the accompanying diagram reflect a more complete picture of your MathExpression class, illustrating its functionality and method for evaluating mathematical expressions.\n",
        "\n",
        "\n",
        "\n"
      ],
      "metadata": {
        "id": "vc1r8-Vha7vj"
      }
    }
  ],
  "metadata": {
    "colab": {
      "provenance": [],
      "mount_file_id": "14m12a73Ru61yoT0WI96Csg0eajtkyQ3P",
      "authorship_tag": "ABX9TyN3DMleN7wkrpXY0AQNMBfX",
      "include_colab_link": true
    },
    "kernelspec": {
      "display_name": "Python 3",
      "name": "python3"
    },
    "language_info": {
      "name": "python"
    }
  },
  "nbformat": 4,
  "nbformat_minor": 0
}